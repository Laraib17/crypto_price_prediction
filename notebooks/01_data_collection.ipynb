{
 "cells": [
  {
   "cell_type": "code",
   "execution_count": 1,
   "id": "b1b49c5e",
   "metadata": {},
   "outputs": [
    {
     "ename": "ModuleNotFoundError",
     "evalue": "No module named 'numpy'",
     "output_type": "error",
     "traceback": [
      "\u001b[1;31m---------------------------------------------------------------------------\u001b[0m",
      "\u001b[1;31mModuleNotFoundError\u001b[0m                       Traceback (most recent call last)",
      "Cell \u001b[1;32mIn[1], line 1\u001b[0m\n\u001b[1;32m----> 1\u001b[0m \u001b[38;5;28;01mimport\u001b[39;00m\u001b[38;5;250m \u001b[39m\u001b[38;5;21;01mnumpy\u001b[39;00m\u001b[38;5;250m \u001b[39m\u001b[38;5;28;01mas\u001b[39;00m\u001b[38;5;250m \u001b[39m\u001b[38;5;21;01mnp\u001b[39;00m\n\u001b[0;32m      2\u001b[0m \u001b[38;5;28;01mimport\u001b[39;00m\u001b[38;5;250m \u001b[39m\u001b[38;5;21;01mmatplotlib\u001b[39;00m\u001b[38;5;21;01m.\u001b[39;00m\u001b[38;5;21;01mpyplot\u001b[39;00m\u001b[38;5;250m \u001b[39m\u001b[38;5;28;01mas\u001b[39;00m\u001b[38;5;250m \u001b[39m\u001b[38;5;21;01mplt\u001b[39;00m\n",
      "\u001b[1;31mModuleNotFoundError\u001b[0m: No module named 'numpy'"
     ]
    }
   ],
   "source": [
    "import numpy as np\n",
    "import matplotlib.pyplot as plt"
   ]
  },
  {
   "cell_type": "markdown",
   "id": "933d3eb3",
   "metadata": {},
   "source": [
    "###Reading file from the data"
   ]
  },
  {
   "cell_type": "code",
   "execution_count": null,
   "id": "6b14bc36",
   "metadata": {},
   "outputs": [
    {
     "name": "stdout",
     "output_type": "stream",
     "text": [
      "[['SNo', 'Name', 'Symbol', 'Date', 'High', 'Low', 'Open', 'Close', 'Volume', 'Marketcap'], ['1', 'Aave', 'AAVE', '2020-10-05 23:59:59', '55.11235847', '49.78789992', '52.67503496', '53.21924296', '0.0', '89128128.86084658'], ['2', 'Aave', 'AAVE', '2020-10-06 23:59:59', '53.40227002', '40.73457791', '53.29196931', '42.40159861', '583091.4597628', '71011441.25451232'], ['3', 'Aave', 'AAVE', '2020-10-07 23:59:59', '42.40831364', '35.97068975', '42.39994711', '40.08397561', '682834.18632335', '67130036.89981823'], ['4', 'Aave', 'AAVE', '2020-10-08 23:59:59', '44.90251114', '36.69605677', '39.88526234', '43.76446306', '1658816.92260445', '220265142.10956782']]\n"
     ]
    }
   ],
   "source": [
    "import csv\n",
    "with open('../Data/raw/coin_Aave.csv', 'r') as file:\n",
    "    reader = csv.reader(file)\n",
    "    data = list(reader)\n",
    "data = np.array(data)\n",
    "print(data[:5])  # Print first 5 rows to understand the structure"
   ]
  },
  {
   "cell_type": "code",
   "execution_count": null,
   "id": "cb4769d1",
   "metadata": {},
   "outputs": [],
   "source": []
  }
 ],
 "metadata": {
  "kernelspec": {
   "display_name": "crypto-ml",
   "language": "python",
   "name": "python3"
  },
  "language_info": {
   "codemirror_mode": {
    "name": "ipython",
    "version": 3
   },
   "file_extension": ".py",
   "mimetype": "text/x-python",
   "name": "python",
   "nbconvert_exporter": "python",
   "pygments_lexer": "ipython3",
   "version": "3.10.18"
  }
 },
 "nbformat": 4,
 "nbformat_minor": 5
}
